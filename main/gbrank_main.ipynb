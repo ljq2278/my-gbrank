{
 "cells": [
  {
   "cell_type": "code",
   "execution_count": 1,
   "metadata": {
    "collapsed": true,
    "pycharm": {
     "is_executing": false
    }
   },
   "outputs": [],
   "source": [
    "# 将数据载入内存后，按query划分\n",
    "# 而对每个query内数据随机抽取一半，比对另一半。如果playtime比另一半小，则为逆序对\n",
    "# 对逆序对，第一轮时一个拟合1，一个-1（即deta取1）。拟合出一棵树后，再对每个query内数据随机抽取一半\n",
    "# 进行下一轮训练。此时按公式先获得先前预测值，而后如果存在逆序对，再按学习率为1的公式进行更新该对目标函数\n",
    "# 从而获取该对的负梯度方向，再构造树进行拟合\n",
    "\n",
    "from IPython.display import Image  \n",
    "from sklearn import tree\n",
    "import pydotplus \n",
    "\n",
    "import numpy as np\n",
    "import joblib\n",
    "from sklearn.tree import DecisionTreeRegressor\n",
    "import time"
   ]
  },
  {
   "cell_type": "code",
   "execution_count": 1,
   "outputs": [
    {
     "name": "stdout",
     "text": [
      "0\n",
      "1000\n",
      "2000\n",
      "3000\n",
      "4000\n",
      "5000\n",
      "6000\n",
      "7000\n",
      "8000\n",
      "9000\n",
      "10000\n",
      "11000\n",
      "12000\n",
      "13000\n",
      "14000\n",
      "15000\n",
      "16000\n",
      "17000\n",
      "18000\n",
      "19000\n",
      "20000\n",
      "21000\n",
      "22000\n",
      "23000\n",
      "24000\n",
      "25000\n",
      "26000\n",
      "27000\n",
      "28000\n",
      "29000\n",
      "30000\n",
      "31000\n",
      "32000\n",
      "33000\n",
      "34000\n",
      "35000\n",
      "36000\n",
      "37000\n",
      "38000\n",
      "39000\n",
      "40000\n",
      "41000\n",
      "42000\n",
      "43000\n",
      "44000\n",
      "45000\n",
      "46000\n",
      "47000\n",
      "48000\n",
      "49000\n",
      "50000\n",
      "51000\n",
      "52000\n",
      "53000\n",
      "54000\n",
      "55000\n",
      "56000\n",
      "57000\n",
      "58000\n",
      "59000\n",
      "60000\n",
      "61000\n",
      "62000\n",
      "63000\n",
      "64000\n",
      "65000\n",
      "66000\n",
      "67000\n",
      "68000\n",
      "69000\n",
      "70000\n",
      "71000\n",
      "72000\n",
      "73000\n",
      "74000\n",
      "75000\n",
      "76000\n",
      "77000\n",
      "78000\n",
      "79000\n",
      "80000\n",
      "81000\n",
      "82000\n",
      "83000\n",
      "84000\n",
      "85000\n",
      "86000\n",
      "87000\n",
      "88000\n",
      "89000\n",
      "90000\n"
     ],
     "output_type": "stream"
    }
   ],
   "source": [
    "query_X = {}\n",
    "\n",
    "f = open('train_data','r',encoding='utf-8')\n",
    "lines = f.readlines()\n",
    "for _ind,_line in enumerate(lines):\n",
    "    if _ind%1000==0:\n",
    "        print(_ind)\n",
    "    _line = _line[:-1]\n",
    "    query,gameid,features = _line.split('\\t',2)\n",
    "    if query not in query_X.keys():\n",
    "        query_X[query] = {}\n",
    "    query_X[query][gameid] = [float(x) for x in features.split('\\t')]\n",
    "f.close()"
   ],
   "metadata": {
    "collapsed": false,
    "pycharm": {
     "name": "#%%\n",
     "is_executing": false
    }
   }
  },
  {
   "cell_type": "code",
   "execution_count": 2,
   "outputs": [],
   "source": [
    "# 去掉query_X里query只有一条数据的，还有query里的数据时长都是0的\n",
    "queryCantTrain = set()\n",
    "for query,gameid_feat in query_X.items():\n",
    "    if len(gameid_feat)==1:\n",
    "        queryCantTrain.add(query)\n",
    "        continue\n",
    "    playTimeAllZeroFlag = True\n",
    "    for gameid,feat in gameid_feat.items():\n",
    "        if feat[0]!=0:\n",
    "            playTimeAllZeroFlag = False\n",
    "    if playTimeAllZeroFlag:\n",
    "        queryCantTrain.add(query)\n",
    "        continue\n",
    "        \n",
    "for query in queryCantTrain:\n",
    "    del query_X[query]\n",
    "    "
   ],
   "metadata": {
    "collapsed": false,
    "pycharm": {
     "name": "#%%\n",
     "is_executing": false
    }
   }
  },
  {
   "cell_type": "code",
   "execution_count": 56,
   "outputs": [],
   "source": [
    "# 获取排序标准：游戏时长\n",
    "query_playtime = {}\n",
    "\n",
    "for query,gameid_feat in query_X.items():\n",
    "    for gameid,feat in gameid_feat.items():\n",
    "        if query not in query_playtime.keys():\n",
    "            query_playtime[query] = {}\n",
    "        query_playtime[query][gameid] = feat[0]\n",
    "        "
   ],
   "metadata": {
    "collapsed": false,
    "pycharm": {
     "name": "#%%\n",
     "is_executing": false
    }
   }
  },
  {
   "cell_type": "code",
   "execution_count": 57,
   "outputs": [],
   "source": [
    "# 将数据拆分为训练集和验证集\n",
    "# 一万个query数据做训练，剩下的验证\n",
    "\n",
    "data_cont = len(query_X)\n",
    "train_cont = 10000\n",
    "vali_cont = data_cont-train_cont\n",
    "\n",
    "permut = np.random.permutation(data_cont)\n",
    "\n",
    "query_X_train = {}\n",
    "query_X_vali = {}\n",
    "\n",
    "query_X_list = list(query_X.items())\n",
    "for _ind in range(0,data_cont):\n",
    "    if _ind<train_cont:\n",
    "        query_X_train[query_X_list[permut[_ind]][0]] = query_X_list[permut[_ind]][1]\n",
    "    else:\n",
    "        query_X_vali[query_X_list[permut[_ind]][0]] = query_X_list[permut[_ind]][1]"
   ],
   "metadata": {
    "collapsed": false,
    "pycharm": {
     "name": "#%%\n",
     "is_executing": false
    }
   }
  },
  {
   "cell_type": "code",
   "execution_count": 58,
   "outputs": [
    {
     "name": "stdout",
     "text": [
      "0.10312879\n"
     ],
     "output_type": "stream"
    }
   ],
   "source": [
    "# ndcg得分算法\n",
    "# 由于我们只关注序（训练时也是），那我们scores就拿序输入就行，不用拿时间\n",
    "# 我们最关注的还是不能把该保留的丢到后面取\n",
    "def getDCG(scores):\n",
    "    scores = np.array(scores)\n",
    "    return np.sum(\n",
    "        # np.divide(np.power(2, scores) - 1, np.log(np.arange(scores.shape[0], dtype=np.float32) + 2)),\n",
    "        np.divide(scores, np.log(np.arange(scores.shape[0], dtype=np.float32) + 2)),\n",
    "        dtype=np.float32)\n",
    "\n",
    "\n",
    "def getNDCG(cur_rank):\n",
    "    best_rank = np.sort(cur_rank)[::-1]\n",
    "    worst_rank = np.sort(cur_rank)\n",
    "    \n",
    "    idcg = getDCG(best_rank)\n",
    "    wdcg = getDCG(worst_rank)\n",
    "    dcg = getDCG(cur_rank)\n",
    "\n",
    "    # print(dcg,idcg,wdcg)\n",
    "    if idcg-wdcg!=0:\n",
    "        ndcg = (dcg-wdcg) / (idcg-wdcg)\n",
    "    else:\n",
    "        ndcg = 1\n",
    "    return ndcg\n",
    "\n",
    "\n",
    "cur_rank = [1, 2,1,3]\n",
    "print(getNDCG(cur_rank))\n"
   ],
   "metadata": {
    "collapsed": false,
    "pycharm": {
     "name": "#%%\n",
     "is_executing": false
    }
   }
  },
  {
   "cell_type": "code",
   "execution_count": 93,
   "outputs": [],
   "source": [
    "# 训练并验证的主要函数\n",
    "\n",
    "\n",
    "def fit(sampled_X,sampled_y,max_depth):\n",
    "    global regrs\n",
    "    print('start fit')\n",
    "    regr = DecisionTreeRegressor(max_depth=max_depth)\n",
    "    regr.fit(sampled_X, sampled_y)\n",
    "    regrs.append(regr)\n",
    "    return regr\n",
    "\n",
    "def getNextScore(cur_scores,regri,query_X,k):\n",
    "    # 叠加公式为 (k*score_ori+beta*score_curgradient)/(k+1)，其中k表示第几次梯度拟合了\n",
    "    # 整个公式表示越拟合到后面，当前梯度对全局影响越小。是合理的\n",
    "    print('start getNextScore ',k)\n",
    "    beta = 1\n",
    "    X = []\n",
    "    ind = 0\n",
    "    indToQueryGameid = {}\n",
    "    for query,gameid_feat in query_X.items():\n",
    "        for gameid,feat in gameid_feat.items():\n",
    "            X.append(feat[1:])\n",
    "            indToQueryGameid[ind] = query+'_'+gameid\n",
    "            ind += 1\n",
    "    tmp = time.time()\n",
    "    scores = regri.predict(X)\n",
    "    deta_time = time.time()-tmp\n",
    "    print('predict time: ',deta_time)\n",
    "    next_scores = {}\n",
    "    for i in range(0,len(scores)):\n",
    "        tmp = indToQueryGameid[i].split('_')\n",
    "        gameid = tmp[-1]\n",
    "        query = '_'.join(tmp[:-1])\n",
    "        # query,gameid = indToQueryGameid[ind].split('_')\n",
    "        if query not in next_scores.keys():\n",
    "            next_scores[query] = {}\n",
    "        next_scores[query][gameid] = (k*cur_scores[query][gameid] + beta*scores[i])/(k+1)\n",
    "    return next_scores \n",
    "\n",
    "def sampleQueryRevPairsAndGeneLoss(cur_scores,query_X): \n",
    "    # cur_scores为：{'query1':{'gameid1':0.1,'gameid2':0.3,...},...}\n",
    "    # 取最小间隔为1.先在每个query内permut，然后两个两个取获得pairs,\n",
    "    # 然后playtime(pair[0])>playtime(pair[1])且score(pair[0])<score(pair[1])+1的即为逆序对，\n",
    "    # pair[0]的梯度方向为score(pair[1])+1-score(pair[0])\n",
    "    # pair[1]的梯度方向为score(pair[0])-1-score(pair[1])\n",
    "    # 然后既可以获得下一棵回归树的目标函数\n",
    "    print('start sampleQueryRevPairsAndGeneLoss ')\n",
    "    deta = 1\n",
    "    sampled_X = []\n",
    "    sampled_y = []\n",
    "    for query,gameid_feat in query_X.items():\n",
    "        tmp = dict([[ind,(gameid,feat)] for ind,(gameid,feat) in enumerate(gameid_feat.items())])\n",
    "        permut = np.random.permutation(len(tmp))\n",
    "        for i in range(0,len(tmp),2):\n",
    "            if i+1<len(tmp):\n",
    "                score0 = cur_scores[query][tmp[permut[i]][0]]\n",
    "                score1 = cur_scores[query][tmp[permut[i+1]][0]]\n",
    "                playtime0 = tmp[permut[i]][1][0]\n",
    "                playtime1 = tmp[permut[i+1]][1][0]\n",
    "                feat0 = tmp[permut[i]][1][1:]\n",
    "                feat1 = tmp[permut[i+1]][1][1:]\n",
    "                if playtime0 > playtime1 and score0 < score1 + deta:\n",
    "                    # sampled_X.append(feat0+[score1+deta-score0])\n",
    "                    # sampled_X.append(feat1+[score0-deta-score1])\n",
    "                    sampled_X.append(feat0)\n",
    "                    sampled_X.append(feat1)\n",
    "                    sampled_y.append(score1+deta-score0)\n",
    "                    sampled_y.append(score0-deta-score1)\n",
    "    return sampled_X,sampled_y"
   ],
   "metadata": {
    "collapsed": false,
    "pycharm": {
     "name": "#%%\n",
     "is_executing": false
    }
   }
  },
  {
   "cell_type": "code",
   "execution_count": 60,
   "outputs": [],
   "source": [
    "# 在本项目中获取ndcg得分的办法\n",
    "def getNdcgScore(playtime_dict,predscore_dict):\n",
    "    playtime_list_asc = sorted(list(playtime_dict.items()),key=lambda x:x[1])\n",
    "    gameid_to_truerank = {}\n",
    "    ind = 1\n",
    "    last_playtime = -1\n",
    "    for itm in playtime_list_asc:\n",
    "        if last_playtime == -1:\n",
    "            gameid_to_truerank[itm[0]] = ind\n",
    "            last_playtime = itm[1]\n",
    "        elif itm[1] == last_playtime:\n",
    "            gameid_to_truerank[itm[0]] = ind\n",
    "        else:\n",
    "            ind += 1\n",
    "            gameid_to_truerank[itm[0]] = ind\n",
    "            last_playtime = itm[1]\n",
    "    # print(gameid_to_truerank)\n",
    "    score_list_desc = sorted(list(predscore_dict.items()),key=lambda x:-x[1])\n",
    "    dest_rnk = []\n",
    "    for itm in score_list_desc:\n",
    "        dest_rnk.append(gameid_to_truerank[itm[0]])\n",
    "    return getNDCG(dest_rnk)\n",
    "\n",
    "ndcg_scores_dict = {}\n",
    "def getAvgNdcgScore(cur_scores,query_playtime):\n",
    "    global ndcg_scores\n",
    "    for query,gameid_score in cur_scores.items():\n",
    "        ndcg_score = getNdcgScore(query_playtime[query],gameid_score)\n",
    "        ndcg_scores_dict[query] = ndcg_score\n",
    "        # ndcg_scores.append(ndcg_score)\n",
    "    return np.average(list(ndcg_scores_dict.values()))\n",
    "\n",
    "# playtime_dict = query_playtime['迷你世界']\n",
    "# predscore_dict = cur_scores['迷你世界']\n",
    "# print(getNdcgScore(playtime_dict,predscore_dict))\n",
    "# print(getAvgNdcgScore(cur_scores,query_playtime))\n",
    "# print([[k,v] for k,v in ndcg_scores_dict.items() if np.isnan(v)])"
   ],
   "metadata": {
    "collapsed": false,
    "pycharm": {
     "name": "#%%\n",
     "is_executing": false
    }
   }
  },
  {
   "cell_type": "code",
   "execution_count": 94,
   "outputs": [
    {
     "name": "stdout",
     "text": [
      "start sampleQueryRevPairsAndGeneLoss \n",
      "start fit\n",
      "start getNextScore  0\n",
      "predict time:  0.9933452606201172\n",
      "cur_scores_train score:  0.6819416966672734  epoch:  0\n",
      "start getNextScore  0\n",
      "predict time:  0.18650126457214355\n",
      "cur_scores_vali score:  0.6716843945067161  epoch:  0\n",
      "start sampleQueryRevPairsAndGeneLoss \n",
      "start fit\n",
      "start getNextScore  1\n",
      "predict time:  1.000326156616211\n",
      "cur_scores_train score:  0.6853225446724814  epoch:  1\n",
      "start getNextScore  1\n",
      "predict time:  0.17453289031982422\n",
      "cur_scores_vali score:  0.6854013902798592  epoch:  1\n",
      "start sampleQueryRevPairsAndGeneLoss \n",
      "start fit\n",
      "start getNextScore  2\n",
      "predict time:  1.0761241912841797\n",
      "cur_scores_train score:  0.7004322680978541  epoch:  2\n",
      "start getNextScore  2\n",
      "predict time:  0.18151426315307617\n",
      "cur_scores_vali score:  0.7017907402168833  epoch:  2\n",
      "start sampleQueryRevPairsAndGeneLoss \n",
      "start fit\n",
      "start getNextScore  3\n",
      "predict time:  1.019275426864624\n",
      "cur_scores_train score:  0.7153344523108941  epoch:  3\n",
      "start getNextScore  3\n",
      "predict time:  0.1735365390777588\n",
      "cur_scores_vali score:  0.7166671387394534  epoch:  3\n",
      "start sampleQueryRevPairsAndGeneLoss \n",
      "start fit\n",
      "start getNextScore  4\n",
      "predict time:  0.9933454990386963\n",
      "cur_scores_train score:  0.7257003659634701  epoch:  4\n",
      "start getNextScore  4\n",
      "predict time:  0.19048833847045898\n",
      "cur_scores_vali score:  0.7278282269759037  epoch:  4\n",
      "start sampleQueryRevPairsAndGeneLoss \n",
      "start fit\n",
      "start getNextScore  5\n",
      "predict time:  1.0112972259521484\n",
      "cur_scores_train score:  0.7337225134032782  epoch:  5\n",
      "start getNextScore  5\n",
      "predict time:  0.18849539756774902\n",
      "cur_scores_vali score:  0.7346340980506734  epoch:  5\n",
      "start sampleQueryRevPairsAndGeneLoss \n",
      "start fit\n",
      "start getNextScore  6\n",
      "predict time:  1.0372281074523926\n",
      "cur_scores_train score:  0.7414483969387489  epoch:  6\n",
      "start getNextScore  6\n",
      "predict time:  0.17253828048706055\n",
      "cur_scores_vali score:  0.7422145923813461  epoch:  6\n",
      "start sampleQueryRevPairsAndGeneLoss \n",
      "start fit\n",
      "start getNextScore  7\n",
      "predict time:  1.0631589889526367\n",
      "cur_scores_train score:  0.7471097573877461  epoch:  7\n",
      "start getNextScore  7\n",
      "predict time:  0.17353606224060059\n",
      "cur_scores_vali score:  0.7473852448624032  epoch:  7\n"
     ],
     "output_type": "stream"
    }
   ],
   "source": [
    "# 训练主程序\n",
    "\n",
    "# 初始化得分\n",
    "cur_scores_train = {}\n",
    "for query,gameid_feat in query_X_train.items():\n",
    "    for gameid,feat in gameid_feat.items():\n",
    "        if query not in cur_scores_train.keys():\n",
    "            cur_scores_train[query] = {}\n",
    "        cur_scores_train[query][gameid] = 0\n",
    "\n",
    "cur_scores_vali = {}\n",
    "for query,gameid_feat in query_X_vali.items():\n",
    "    for gameid,feat in gameid_feat.items():\n",
    "        if query not in cur_scores_vali.keys():\n",
    "            cur_scores_vali[query] = {}\n",
    "        cur_scores_vali[query][gameid] = 0\n",
    "        \n",
    "# 要训练几次\n",
    "\n",
    "regrs = []\n",
    "train_times = 8\n",
    "tree_max_deep = 8\n",
    "for i in range(0,train_times):\n",
    "    sampled_X,sampled_y = sampleQueryRevPairsAndGeneLoss(cur_scores_train,query_X_train)\n",
    "    regri = fit(sampled_X,sampled_y,tree_max_deep)\n",
    "    cur_scores_train = getNextScore(cur_scores_train,regri,query_X_train,i)\n",
    "    print('cur_scores_train score: ',getAvgNdcgScore(cur_scores_train,query_playtime),' epoch: ', i)\n",
    "    cur_scores_vali = getNextScore(cur_scores_vali,regri,query_X_vali,i)\n",
    "    print('cur_scores_vali score: ',getAvgNdcgScore(cur_scores_vali,query_playtime),' epoch: ',i)"
   ],
   "metadata": {
    "collapsed": false,
    "pycharm": {
     "name": "#%%\n",
     "is_executing": false
    }
   }
  },
  {
   "cell_type": "code",
   "execution_count": 95,
   "outputs": [],
   "source": [
    "# 将回归器存储\n",
    "\n",
    "for i in range(0,train_times):\n",
    "    joblib.dump(regrs[i], 'gbdt_model_epoch_'+str(i)+'.m')   # 保存模型\n"
   ],
   "metadata": {
    "collapsed": false,
    "pycharm": {
     "name": "#%%\n",
     "is_executing": false
    }
   }
  },
  {
   "cell_type": "code",
   "execution_count": 96,
   "outputs": [],
   "source": [
    "# 载入回归器\n",
    "regrs_predict = []\n",
    "for i in range(0,train_times):\n",
    "    regrs_predict.append(joblib.load('gbdt_model_epoch_'+str(i)+'.m'))\n",
    "    "
   ],
   "metadata": {
    "collapsed": false,
    "pycharm": {
     "name": "#%%\n",
     "is_executing": false
    }
   }
  },
  {
   "cell_type": "code",
   "execution_count": 97,
   "outputs": [
    {
     "name": "stdout",
     "text": [
      "predict time:  0.06283140182495117\n",
      "cur_scores_vali score:  0.8724221\n"
     ],
     "output_type": "stream"
    }
   ],
   "source": [
    "# 预测(选一个多item的query)\n",
    "X_ind = query_X['迷你世界'].keys()\n",
    "X = [x[1:] for x in query_X['迷你世界'].values()]\n",
    "\n",
    "\n",
    "def getScorePredict(X,regrs,beta):\n",
    "    # 叠加公式为 (k*score_ori+beta*score_curgradient)/(k+1)，其中k表示第几次梯度拟合了\n",
    "    # 整个公式表示越拟合到后面，当前梯度对全局影响越小。是合理的\n",
    "    scores = None\n",
    "    tmp = time.time()\n",
    "    for k,regri in enumerate(regrs):\n",
    "        if k == 0:\n",
    "            scores = beta*regri.predict(X)\n",
    "        else:\n",
    "            scores = (k*scores + beta*regri.predict(X))/(k+1)\n",
    "    deta_time = time.time()-tmp\n",
    "    print('predict time: ',deta_time)\n",
    "    return scores \n",
    "\n",
    "\n",
    "scores = getScorePredict(X,regrs_predict,1)\n",
    "\n",
    "print('cur_scores_vali score: ',getNdcgScore(query_playtime['迷你世界'],dict(zip(X_ind,scores))))\n"
   ],
   "metadata": {
    "collapsed": false,
    "pycharm": {
     "name": "#%%    \n",
     "is_executing": false
    }
   }
  },
  {
   "cell_type": "code",
   "execution_count": 98,
   "outputs": [
    {
     "name": "stdout",
     "text": [
      "predict time:  0.09075713157653809\n",
      "cur_scores_vali score:  0.82894444\n"
     ],
     "output_type": "stream"
    }
   ],
   "source": [
    "# 找个比较长的做性能测试\n",
    "tmp = sorted(list(query_X.items()),key=lambda x:-len(x[1]))\n",
    "len(tmp[0][1])\n",
    "\n",
    "# 将query为 迷你世界 和 迷你器 的游戏放一起来模仿粗排长度\n",
    "X_ind = list(query_X['迷你世界'].keys())\n",
    "X = [x[1:] for x in query_X['迷你世界'].values()]\n",
    "X_playtime = [x[0] for x in query_X['迷你世界'].values()]\n",
    "\n",
    "for gameid,feat in query_X['模拟器'].items():\n",
    "    if gameid not in X_ind:\n",
    "        X_ind.append(gameid)\n",
    "        X.append(feat[1:])\n",
    "        X_playtime.append(feat[0])\n",
    "\n",
    "scores = getScorePredict(X,regrs_predict,1)\n",
    "\n",
    "print('cur_scores_vali score: ',getNdcgScore(dict(zip(X_ind,X_playtime)),dict(zip(X_ind,scores))))\n",
    "\n"
   ],
   "metadata": {
    "collapsed": false,
    "pycharm": {
     "name": "#%%\n",
     "is_executing": false
    }
   }
  },
  {
   "cell_type": "code",
   "execution_count": 2,
   "outputs": [
    {
     "name": "stdout",
     "text": [
      "dot: graph is too large for cairo-renderer bitmaps. Scaling by 0.911613 to fit\r\n",
      "\n",
      "dot: graph is too large for cairo-renderer bitmaps. Scaling by 0.911613 to fit\r\n",
      "\n",
      "dot: graph is too large for cairo-renderer bitmaps. Scaling by 0.983226 to fit\r\n",
      "\n",
      "dot: graph is too large for cairo-renderer bitmaps. Scaling by 0.983226 to fit\r\n",
      "\n"
     ],
     "output_type": "stream"
    }
   ],
   "source": [
    "# 查看节点分裂情况\n",
    "\n",
    "train_times = 8\n",
    "regrs_predict = []\n",
    "for i in range(0,train_times):\n",
    "    regrs_predict.append(joblib.load('gbdt_model_epoch_'+str(i)+'.m'))\n",
    "    \n",
    "for i in range(0,train_times):\n",
    "    dot_data = tree.export_graphviz(regrs_predict[i], out_file=None,  #regr_1 是对应分类器\n",
    "                             feature_names=[str(x) for x in list(np.arange(0,770))],   #对应特征的名字\n",
    "                             class_names=['y'],    #对应类别的名字\n",
    "                             filled=True, rounded=True,  \n",
    "                             special_characters=True)  \n",
    "    graph = pydotplus.graph_from_dot_data(dot_data)  \n",
    "    graph.write_png('tree_cut_%d.png'%i)    #保存图像\n",
    "    Image(graph.create_png()) \n"
   ],
   "metadata": {
    "collapsed": false,
    "pycharm": {
     "name": "#%%\n",
     "is_executing": false
    }
   }
  }
 ],
 "metadata": {
  "kernelspec": {
   "display_name": "Python 3",
   "language": "python",
   "name": "python3"
  },
  "language_info": {
   "codemirror_mode": {
    "name": "ipython",
    "version": 2
   },
   "file_extension": ".py",
   "mimetype": "text/x-python",
   "name": "python",
   "nbconvert_exporter": "python",
   "pygments_lexer": "ipython2",
   "version": "2.7.6"
  },
  "pycharm": {
   "stem_cell": {
    "cell_type": "raw",
    "source": [],
    "metadata": {
     "collapsed": false
    }
   }
  }
 },
 "nbformat": 4,
 "nbformat_minor": 0
}